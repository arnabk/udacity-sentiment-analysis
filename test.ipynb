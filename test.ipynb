{
 "nbformat": 4,
 "nbformat_minor": 2,
 "metadata": {
  "language_info": {
   "name": "python",
   "codemirror_mode": {
    "name": "ipython",
    "version": 3
   },
   "version": "3.7.3"
  },
  "orig_nbformat": 2,
  "file_extension": ".py",
  "mimetype": "text/x-python",
  "name": "python",
  "npconvert_exporter": "python",
  "pygments_lexer": "ipython3",
  "version": 3
 },
 "cells": [
  {
   "cell_type": "code",
   "execution_count": 2,
   "metadata": {},
   "outputs": [
    {
     "data": {
      "text/plain": "3"
     },
     "execution_count": 2,
     "metadata": {},
     "output_type": "execute_result"
    }
   ],
   "source": [
    "1 + 2"
   ]
  },
  {
   "cell_type": "code",
   "execution_count": 46,
   "metadata": {},
   "outputs": [],
   "source": [
    "import numpy as np\n",
    "import operator\n",
    "\n",
    "def build_dict(data, vocab_size = 5000):\n",
    "    \"\"\"Construct and return a dictionary mapping each of the most frequently appearing words to a unique integer.\"\"\"\n",
    "    \n",
    "    # TODO: Determine how often each word appears in `data`. Note that `data` is a list of sentences and that a\n",
    "    #       sentence is a list of words.\n",
    "    \n",
    "    word_count = {} # A dict storing the words that appear in the reviews along with how often they occur\n",
    "    for line in data.split('\\n'):\n",
    "        for word in line.split(' '):\n",
    "            if word in word_count.keys():\n",
    "                word_count[word] = word_count[word] + 1\n",
    "            else:\n",
    "                word_count[word] = 1\n",
    "    \n",
    "    # TODO: Sort the words found in `data` so that sorted_words[0] is the most frequently appearing word and sorted_words[-1] is the least frequently appearing word.\n",
    "    \n",
    "    sorted_words = sorted(word_count.items(), key=operator.itemgetter(1))\n",
    "    sorted_words.reverse()\n",
    "    sorted_words = list(map(lambda x: x[0], sorted_words))\n",
    "\n",
    "    word_dict = {} # This is what we are building, a dictionary that translates words into integers\n",
    "    for idx, word in enumerate(sorted_words[:vocab_size - 2]): # The -2 is so that we save room for the 'no word'\n",
    "        word_dict[word] = idx + 2                              # 'infrequent' labels\n",
    "        \n",
    "    return word_dict"
   ]
  },
  {
   "cell_type": "code",
   "execution_count": 47,
   "metadata": {},
   "outputs": [
    {
     "data": {
      "text/plain": "{'the': 2,\n 'a': 3,\n 'and': 4,\n 'to': 5,\n 'of': 6,\n 'I': 7,\n 'his': 8,\n 'that': 9,\n 'he': 10,\n 'was': 11,\n 'as': 12,\n 'in': 13,\n 'movie': 14,\n 'this': 15,\n 'son': 16,\n 'it': 17,\n 'him': 18,\n 'being': 19,\n 'Sullivan': 20,\n '-': 21,\n 'good': 22,\n 'an': 23,\n 'me': 24,\n 'on': 25,\n 'older': 26,\n 'keep': 27,\n 'sort': 28,\n 'very': 29,\n 'while': 30,\n 'After': 31,\n 'movie.': 32,\n \"Hanks'\": 33,\n 'have': 34,\n 'gangster': 35,\n 'somewhat': 36,\n 'context': 37,\n 'Hanks': 38,\n 'definitely': 39,\n 'for': 40,\n '4/100': 41,\n 'in.': 42,\n 'pull': 43,\n \"didn't\": 44,\n 'just': 45,\n 'whole': 46,\n 'performance,': 47,\n 'appreciated': 48,\n 'confess': 49,\n 'rainfall.': 50,\n 'torrential': 51,\n 'darkness': 52,\n 'shot': 53,\n 'scenes': 54,\n 'many': 55,\n 'with': 56,\n 'reinforced': 57,\n 'mood': 58,\n 'throughout,': 59,\n 'dark': 60,\n 'really': 61,\n \"it's\": 62,\n 'story)': 63,\n 'overall': 64,\n 'least': 65,\n '(at': 66,\n 'note': 67,\n 'hopeful': 68,\n 'ends': 69,\n 'Although': 70,\n 'bonding': 71,\n 'father/son': 72,\n 'weird': 73,\n 'becomes': 74,\n 'It': 75,\n 'run.': 76,\n 'Jr.)': 77,\n '(Mike,': 78,\n 'leaves': 79,\n 'mother),': 80,\n '(and': 81,\n 'wrong': 82,\n 'gets': 83,\n 'quiet,': 84,\n 'kill': 85,\n 'tries': 86,\n 'gang': 87,\n 'murder,': 88,\n 'witnesses': 89,\n 'business.': 90,\n 'from': 91,\n 'isolated': 92,\n 'speak;': 93,\n 'so': 94,\n 'clean': 95,\n 'them': 96,\n 'sons': 97,\n 'two': 98,\n 'own': 99,\n 'raise': 100,\n 'trying': 101,\n 'boss,': 102,\n 'mob': 103,\n \"who's\": 104,\n 'Newman),': 105,\n '(Paul': 106,\n 'Rooney': 107,\n 'by': 108,\n 'raised': 109,\n 'largely': 110,\n 'developed': 111,\n 'has': 112,\n 'relationships': 113,\n 'complicated': 114,\n 'about': 115,\n 'movie,': 116,\n 'sombre': 117,\n 'into': 118,\n 'turns': 119,\n 'going)': 120,\n 'where': 121,\n 'clear': 122,\n 'entirely': 123,\n \"wasn't\": 124,\n '(it': 125,\n 'enigmatic': 126,\n 'describe': 127,\n 'best': 128,\n 'would': 129,\n 'opening': 130,\n 'enjoyable': 131,\n 'call': 132,\n \"couldn't\": 133,\n 'certainly': 134,\n 'though,': 135,\n 'aside,': 136,\n 'performance': 137,\n 'well.': 138,\n 'off': 139,\n 'pulled': 140,\n 'in,': 141,\n 'expected': 142,\n \"wouldn't\": 143,\n 'role': 144,\n 'took': 145,\n 'So': 146,\n 'killings.': 147,\n 'those': 148,\n 'before': 149,\n 'murderer': 150,\n 'already': 151,\n 'so,': 152,\n 'Even': 153,\n 'son.': 154,\n 'youngest': 155,\n 'wife': 156,\n 'murders': 157,\n 'avenge': 158,\n 'purpose': 159,\n 'noble': 160,\n 'across': 161,\n 'came': 162,\n 'true': 163,\n \"It's\": 164,\n 'guy.': 165,\n 'not': 166,\n 'for.': 167,\n 'root': 168,\n 'admire': 169,\n 'like,': 170,\n 'you': 171,\n 'one': 172,\n 'guy': 173,\n 'usually': 174,\n 'is': 175,\n 'role.': 176,\n 'him)': 177,\n '(for': 178,\n 'untraditional': 179,\n 'handle': 180,\n 'can': 181,\n 'showed': 182,\n 'type': 183,\n 'against': 184,\n 'cast': 185,\n 'Sullivan,': 186,\n 'Mike': 187,\n 'As': 188,\n 'Hanks.': 189,\n 'Tom': 190,\n 'doubt': 191,\n 'without': 192,\n 'highlight': 193,\n 'The': 194}"
     },
     "execution_count": 47,
     "metadata": {},
     "output_type": "execute_result"
    }
   ],
   "source": [
    "build_dict(\"The highlight of this movie for me was without doubt Tom Hanks. As Mike Sullivan, he was definitely cast against type and showed that he can handle an untraditional (for him) role. Hanks is usually the good guy in a movie - the one you like, admire and root for. Sullivan was definitely not a good guy. It's true that in the context of this movie he came across as somewhat noble - his purpose being to avenge the murders of his wife and youngest son. Even so, he was already a gangster and murderer before those killings. So Hanks took a role I wouldn't have expected him in, and he pulled it off well.\\nHanks' good performance aside, though, I certainly couldn't call this an enjoyable movie. After an opening that I would best describe as enigmatic (it wasn't entirely clear to me for a while where this was going) it turns into a very sombre movie, about the complicated relationships Sullivan has developed as a gangster - largely raised by Rooney (Paul Newman), who's a sort of mob boss, and trying to raise his own two sons and to keep them clean so to speak; isolated from his business. After the older son witnesses a murder, the gang tries to kill him to keep him quiet, gets the wrong son (and the mother), and leaves Sullivan and his older son (Mike, Jr.) on the run. It becomes a weird sort of father/son bonding movie.\\nAlthough it ends on a somewhat hopeful note (at least in the overall context of the story) it's really very dark throughout, that mood being reinforced with many of the scenes being shot in darkness and torrential rainfall. I have to confess that while I appreciated Hanks' performance, the movie as a whole just didn't pull me in. 4/100\")"
   ]
  },
  {
   "cell_type": "code",
   "execution_count": null,
   "metadata": {},
   "outputs": [],
   "source": []
  }
 ]
}